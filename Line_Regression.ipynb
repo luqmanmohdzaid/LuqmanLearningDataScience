{
  "nbformat": 4,
  "nbformat_minor": 0,
  "metadata": {
    "colab": {
      "provenance": [],
      "authorship_tag": "ABX9TyNA0v//foXZNoS7GOuyAfO6",
      "include_colab_link": true
    },
    "kernelspec": {
      "name": "python3",
      "display_name": "Python 3"
    },
    "language_info": {
      "name": "python"
    }
  },
  "cells": [
    {
      "cell_type": "markdown",
      "metadata": {
        "id": "view-in-github",
        "colab_type": "text"
      },
      "source": [
        "<a href=\"https://colab.research.google.com/github/luqmanmohdzaid/LuqmanLearningDataScience/blob/main/Line_Regression.ipynb\" target=\"_parent\"><img src=\"https://colab.research.google.com/assets/colab-badge.svg\" alt=\"Open In Colab\"/></a>"
      ]
    },
    {
      "cell_type": "markdown",
      "source": [
        "# Regression Line"
      ],
      "metadata": {
        "id": "i4AYtlCq1yCD"
      }
    },
    {
      "cell_type": "code",
      "execution_count": null,
      "metadata": {
        "id": "TYgQpAo8I5JJ"
      },
      "outputs": [],
      "source": [
        "import numpy as np\n",
        "import matplotlib.pyplot as plt"
      ]
    },
    {
      "cell_type": "code",
      "source": [
        "#Generate Sample data\n",
        "x = np.linspace(-1,1,500)\n",
        "noise = np.random.normal(0,0.1, x.shape)\n",
        "y = 3 * x + noise\n",
        "\n",
        "plt.scatter(x, y, s = 1,\n",
        "            color = 'magenta',\n",
        "            marker = 'x' )\n",
        "plt.show()"
      ],
      "metadata": {
        "colab": {
          "base_uri": "https://localhost:8080/",
          "height": 430
        },
        "id": "DzFQOa721-8h",
        "outputId": "79509918-9c0f-4136-c858-ca374d312e9f"
      },
      "execution_count": null,
      "outputs": [
        {
          "output_type": "display_data",
          "data": {
            "text/plain": [
              "<Figure size 640x480 with 1 Axes>"
            ],
            "image/png": "[encoded data removed]"
          },
          "metadata": {}
        }
      ]
    },
    {
      "cell_type": "code",
      "source": [
        "import tensorflow as tf\n",
        "from tensorflow import keras"
      ],
      "metadata": {
        "id": "kE1B5XFH358Q"
      },
      "execution_count": null,
      "outputs": []
    },
    {
      "cell_type": "code",
      "source": [
        "model = keras.Sequential([\n",
        "    keras.layers.Dense(units = 1,\n",
        "                       input_shape = (1,))\n",
        "])\n",
        "\n",
        "model.compile(optimizer='sgd', loss = 'mean_squared_error')\n",
        "model"
      ],
      "metadata": {
        "colab": {
          "base_uri": "https://localhost:8080/"
        },
        "id": "-zZQFXwF4D_C",
        "outputId": "5582fda8-2f29-4f72-d9ac-8cce3d1d0868"
      },
      "execution_count": null,
      "outputs": [
        {
          "output_type": "execute_result",
          "data": {
            "text/plain": [
              "<keras.src.engine.sequential.Sequential at 0x79eef048b8b0>"
            ]
          },
          "metadata": {},
          "execution_count": 57
        }
      ]
    },
    {
      "cell_type": "markdown",
      "source": [
        "Reshape x for training"
      ],
      "metadata": {
        "id": "Ntg193gr4yXP"
      }
    },
    {
      "cell_type": "code",
      "source": [
        "x_train = x.reshape(-1,1)"
      ],
      "metadata": {
        "id": "THXCXRGp4m64"
      },
      "execution_count": null,
      "outputs": []
    },
    {
      "cell_type": "code",
      "source": [
        "x_train"
      ],
      "metadata": {
        "id": "x9XAFhxZ6a5R"
      },
      "execution_count": null,
      "outputs": []
    },
    {
      "cell_type": "markdown",
      "source": [
        "Train The Model"
      ],
      "metadata": {
        "id": "UZNmIaaB5FU1"
      }
    },
    {
      "cell_type": "code",
      "source": [
        "history = model.fit(x_train, y, epochs = 50)"
      ],
      "metadata": {
        "colab": {
          "base_uri": "https://localhost:8080/"
        },
        "id": "R9auildN5HNL",
        "outputId": "2e635d0d-797e-467b-f44f-0c9468e8c26f"
      },
      "execution_count": null,
      "outputs": [
        {
          "output_type": "stream",
          "name": "stdout",
          "text": [
            "Epoch 1/100\n",
            "2/2 [==============================] - 0s 7ms/step - loss: 3.1640\n",
            "Epoch 2/100\n",
            "2/2 [==============================] - 0s 5ms/step - loss: 3.0777\n",
            "Epoch 3/100\n",
            "2/2 [==============================] - 0s 5ms/step - loss: 2.9934\n",
            "Epoch 4/100\n",
            "2/2 [==============================] - 0s 5ms/step - loss: 2.9069\n",
            "Epoch 5/100\n",
            "2/2 [==============================] - 0s 5ms/step - loss: 2.8281\n",
            "Epoch 6/100\n",
            "2/2 [==============================] - 0s 5ms/step - loss: 2.7511\n",
            "Epoch 7/100\n",
            "2/2 [==============================] - 0s 5ms/step - loss: 2.6768\n",
            "Epoch 8/100\n",
            "2/2 [==============================] - 0s 5ms/step - loss: 2.6025\n",
            "Epoch 9/100\n",
            "2/2 [==============================] - 0s 5ms/step - loss: 2.5341\n",
            "Epoch 10/100\n",
            "2/2 [==============================] - 0s 6ms/step - loss: 2.4676\n",
            "Epoch 11/100\n",
            "2/2 [==============================] - 0s 5ms/step - loss: 2.4007\n",
            "Epoch 12/100\n",
            "2/2 [==============================] - 0s 5ms/step - loss: 2.3350\n",
            "Epoch 13/100\n",
            "2/2 [==============================] - 0s 5ms/step - loss: 2.2713\n",
            "Epoch 14/100\n",
            "2/2 [==============================] - 0s 5ms/step - loss: 2.2063\n",
            "Epoch 15/100\n",
            "2/2 [==============================] - 0s 5ms/step - loss: 2.1474\n",
            "Epoch 16/100\n",
            "2/2 [==============================] - 0s 5ms/step - loss: 2.0879\n",
            "Epoch 17/100\n",
            "2/2 [==============================] - 0s 5ms/step - loss: 2.0309\n",
            "Epoch 18/100\n",
            "2/2 [==============================] - 0s 5ms/step - loss: 1.9762\n",
            "Epoch 19/100\n",
            "2/2 [==============================] - 0s 5ms/step - loss: 1.9253\n",
            "Epoch 20/100\n",
            "2/2 [==============================] - 0s 5ms/step - loss: 1.8708\n",
            "Epoch 21/100\n",
            "2/2 [==============================] - 0s 5ms/step - loss: 1.8187\n",
            "Epoch 22/100\n",
            "2/2 [==============================] - 0s 5ms/step - loss: 1.7663\n",
            "Epoch 23/100\n",
            "2/2 [==============================] - 0s 5ms/step - loss: 1.7169\n",
            "Epoch 24/100\n",
            "2/2 [==============================] - 0s 6ms/step - loss: 1.6703\n",
            "Epoch 25/100\n",
            "2/2 [==============================] - 0s 5ms/step - loss: 1.6255\n",
            "Epoch 26/100\n",
            "2/2 [==============================] - 0s 5ms/step - loss: 1.5807\n",
            "Epoch 27/100\n",
            "2/2 [==============================] - 0s 5ms/step - loss: 1.5371\n",
            "Epoch 28/100\n",
            "2/2 [==============================] - 0s 5ms/step - loss: 1.4937\n",
            "Epoch 29/100\n",
            "2/2 [==============================] - 0s 5ms/step - loss: 1.4524\n",
            "Epoch 30/100\n",
            "2/2 [==============================] - 0s 6ms/step - loss: 1.4142\n",
            "Epoch 31/100\n",
            "2/2 [==============================] - 0s 5ms/step - loss: 1.3760\n",
            "Epoch 32/100\n",
            "2/2 [==============================] - 0s 5ms/step - loss: 1.3376\n",
            "Epoch 33/100\n",
            "2/2 [==============================] - 0s 6ms/step - loss: 1.3016\n",
            "Epoch 34/100\n",
            "2/2 [==============================] - 0s 5ms/step - loss: 1.2662\n",
            "Epoch 35/100\n",
            "2/2 [==============================] - 0s 5ms/step - loss: 1.2315\n",
            "Epoch 36/100\n",
            "2/2 [==============================] - 0s 6ms/step - loss: 1.1981\n",
            "Epoch 37/100\n",
            "2/2 [==============================] - 0s 5ms/step - loss: 1.1665\n",
            "Epoch 38/100\n",
            "2/2 [==============================] - 0s 6ms/step - loss: 1.1355\n",
            "Epoch 39/100\n",
            "2/2 [==============================] - 0s 5ms/step - loss: 1.1056\n",
            "Epoch 40/100\n",
            "2/2 [==============================] - 0s 5ms/step - loss: 1.0751\n",
            "Epoch 41/100\n",
            "2/2 [==============================] - 0s 5ms/step - loss: 1.0455\n",
            "Epoch 42/100\n",
            "2/2 [==============================] - 0s 5ms/step - loss: 1.0167\n",
            "Epoch 43/100\n",
            "2/2 [==============================] - 0s 4ms/step - loss: 0.9901\n",
            "Epoch 44/100\n",
            "2/2 [==============================] - 0s 4ms/step - loss: 0.9635\n",
            "Epoch 45/100\n",
            "2/2 [==============================] - 0s 5ms/step - loss: 0.9364\n",
            "Epoch 46/100\n",
            "2/2 [==============================] - 0s 5ms/step - loss: 0.9119\n",
            "Epoch 47/100\n",
            "2/2 [==============================] - 0s 5ms/step - loss: 0.8879\n",
            "Epoch 48/100\n",
            "2/2 [==============================] - 0s 5ms/step - loss: 0.8631\n",
            "Epoch 49/100\n",
            "2/2 [==============================] - 0s 5ms/step - loss: 0.8398\n",
            "Epoch 50/100\n",
            "2/2 [==============================] - 0s 6ms/step - loss: 0.8174\n",
            "Epoch 51/100\n",
            "2/2 [==============================] - 0s 6ms/step - loss: 0.7954\n",
            "Epoch 52/100\n",
            "2/2 [==============================] - 0s 6ms/step - loss: 0.7733\n",
            "Epoch 53/100\n",
            "2/2 [==============================] - 0s 5ms/step - loss: 0.7509\n",
            "Epoch 54/100\n",
            "2/2 [==============================] - 0s 5ms/step - loss: 0.7310\n",
            "Epoch 55/100\n",
            "2/2 [==============================] - 0s 6ms/step - loss: 0.7111\n",
            "Epoch 56/100\n",
            "2/2 [==============================] - 0s 4ms/step - loss: 0.6910\n",
            "Epoch 57/100\n",
            "2/2 [==============================] - 0s 4ms/step - loss: 0.6720\n",
            "Epoch 58/100\n",
            "2/2 [==============================] - 0s 4ms/step - loss: 0.6533\n",
            "Epoch 59/100\n",
            "2/2 [==============================] - 0s 4ms/step - loss: 0.6362\n",
            "Epoch 60/100\n",
            "2/2 [==============================] - 0s 7ms/step - loss: 0.6203\n",
            "Epoch 61/100\n",
            "2/2 [==============================] - 0s 6ms/step - loss: 0.6044\n",
            "Epoch 62/100\n",
            "2/2 [==============================] - 0s 6ms/step - loss: 0.5881\n",
            "Epoch 63/100\n",
            "2/2 [==============================] - 0s 4ms/step - loss: 0.5722\n",
            "Epoch 64/100\n",
            "2/2 [==============================] - 0s 4ms/step - loss: 0.5564\n",
            "Epoch 65/100\n",
            "2/2 [==============================] - 0s 4ms/step - loss: 0.5418\n",
            "Epoch 66/100\n",
            "2/2 [==============================] - 0s 6ms/step - loss: 0.5263\n",
            "Epoch 67/100\n",
            "2/2 [==============================] - 0s 4ms/step - loss: 0.5117\n",
            "Epoch 68/100\n",
            "2/2 [==============================] - 0s 4ms/step - loss: 0.4976\n",
            "Epoch 69/100\n",
            "2/2 [==============================] - 0s 4ms/step - loss: 0.4832\n",
            "Epoch 70/100\n",
            "2/2 [==============================] - 0s 4ms/step - loss: 0.4699\n",
            "Epoch 71/100\n",
            "2/2 [==============================] - 0s 4ms/step - loss: 0.4571\n",
            "Epoch 72/100\n",
            "2/2 [==============================] - 0s 4ms/step - loss: 0.4454\n",
            "Epoch 73/100\n",
            "2/2 [==============================] - 0s 4ms/step - loss: 0.4331\n",
            "Epoch 74/100\n",
            "2/2 [==============================] - 0s 7ms/step - loss: 0.4215\n",
            "Epoch 75/100\n",
            "2/2 [==============================] - 0s 5ms/step - loss: 0.4102\n",
            "Epoch 76/100\n",
            "2/2 [==============================] - 0s 4ms/step - loss: 0.3994\n",
            "Epoch 77/100\n",
            "2/2 [==============================] - 0s 4ms/step - loss: 0.3888\n",
            "Epoch 78/100\n",
            "2/2 [==============================] - 0s 4ms/step - loss: 0.3783\n",
            "Epoch 79/100\n",
            "2/2 [==============================] - 0s 4ms/step - loss: 0.3682\n",
            "Epoch 80/100\n",
            "2/2 [==============================] - 0s 4ms/step - loss: 0.3581\n",
            "Epoch 81/100\n",
            "2/2 [==============================] - 0s 4ms/step - loss: 0.3482\n",
            "Epoch 82/100\n",
            "2/2 [==============================] - 0s 5ms/step - loss: 0.3386\n",
            "Epoch 83/100\n",
            "2/2 [==============================] - 0s 4ms/step - loss: 0.3292\n",
            "Epoch 84/100\n",
            "2/2 [==============================] - 0s 4ms/step - loss: 0.3202\n",
            "Epoch 85/100\n",
            "2/2 [==============================] - 0s 4ms/step - loss: 0.3109\n",
            "Epoch 86/100\n",
            "2/2 [==============================] - 0s 5ms/step - loss: 0.3026\n",
            "Epoch 87/100\n",
            "2/2 [==============================] - 0s 7ms/step - loss: 0.2943\n",
            "Epoch 88/100\n",
            "2/2 [==============================] - 0s 5ms/step - loss: 0.2866\n",
            "Epoch 89/100\n",
            "2/2 [==============================] - 0s 6ms/step - loss: 0.2793\n",
            "Epoch 90/100\n",
            "2/2 [==============================] - 0s 5ms/step - loss: 0.2717\n",
            "Epoch 91/100\n",
            "2/2 [==============================] - 0s 7ms/step - loss: 0.2643\n",
            "Epoch 92/100\n",
            "2/2 [==============================] - 0s 8ms/step - loss: 0.2569\n",
            "Epoch 93/100\n",
            "2/2 [==============================] - 0s 5ms/step - loss: 0.2499\n",
            "Epoch 94/100\n",
            "2/2 [==============================] - 0s 5ms/step - loss: 0.2434\n",
            "Epoch 95/100\n",
            "2/2 [==============================] - 0s 6ms/step - loss: 0.2370\n",
            "Epoch 96/100\n",
            "2/2 [==============================] - 0s 6ms/step - loss: 0.2310\n",
            "Epoch 97/100\n",
            "2/2 [==============================] - 0s 5ms/step - loss: 0.2251\n",
            "Epoch 98/100\n",
            "2/2 [==============================] - 0s 5ms/step - loss: 0.2193\n",
            "Epoch 99/100\n",
            "2/2 [==============================] - 0s 6ms/step - loss: 0.2132\n",
            "Epoch 100/100\n",
            "2/2 [==============================] - 0s 8ms/step - loss: 0.2074\n"
          ]
        }
      ]
    },
    {
      "cell_type": "markdown",
      "source": [
        "Evaluate The Model"
      ],
      "metadata": {
        "id": "pBV3OF8J5uIF"
      }
    },
    {
      "cell_type": "code",
      "source": [
        "plt.plot(history.history['loss'])\n",
        "plt.xlabel('epochs')\n",
        "plt.ylabel('Mean Squared Error')\n",
        "plt.show()"
      ],
      "metadata": {
        "colab": {
          "base_uri": "https://localhost:8080/",
          "height": 449
        },
        "id": "bjjDoCTA5n93",
        "outputId": "5a8cc632-0e32-4092-f5ce-8fd49e96adf8"
      },
      "execution_count": null,
      "outputs": [
        {
          "output_type": "display_data",
          "data": {
            "text/plain": [
              "<Figure size 640x480 with 1 Axes>"
            ],
            "image/png": "[encoded data removed]"
          },
          "metadata": {}
        }
      ]
    },
    {
      "cell_type": "markdown",
      "source": [
        "Predict and Plot"
      ],
      "metadata": {
        "id": "FMGRfwnr69yz"
      }
    },
    {
      "cell_type": "code",
      "source": [
        "y_pred = model.predict(x_train)"
      ],
      "metadata": {
        "colab": {
          "base_uri": "https://localhost:8080/"
        },
        "id": "I5mR1g0D68m3",
        "outputId": "4bd863e3-1588-4929-824b-778764e77229"
      },
      "execution_count": null,
      "outputs": [
        {
          "output_type": "stream",
          "name": "stdout",
          "text": [
            "2/2 [==============================] - 0s 4ms/step\n"
          ]
        }
      ]
    },
    {
      "cell_type": "code",
      "source": [
        "plt.scatter(x, y, s=1, color = 'red')\n",
        "plt.plot(x, y_pred, color = 'blue')\n",
        "plt.show()"
      ],
      "metadata": {
        "colab": {
          "base_uri": "https://localhost:8080/",
          "height": 430
        },
        "id": "j1KJvGc27Gg4",
        "outputId": "d79ecdc2-834d-44e0-efc2-f1bf8e81d843"
      },
      "execution_count": null,
      "outputs": [
        {
          "output_type": "display_data",
          "data": {
            "text/plain": [
              "<Figure size 640x480 with 1 Axes>"
            ],
            "image/png": "[encoded data removed]"
          },
          "metadata": {}
        }
      ]
    }
  ]
}